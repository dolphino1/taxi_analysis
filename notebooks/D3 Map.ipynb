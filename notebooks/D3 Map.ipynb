{
 "cells": [
  {
   "cell_type": "code",
   "execution_count": null,
   "metadata": {
    "collapsed": true
   },
   "outputs": [],
   "source": [
    "%%javascript\n",
    "require.config({\n",
    "    paths: {\n",
    "        d3: '//cdnjs.cloudflare.com/ajax/libs/d3/3.4.8/d3.min'\n",
    "    }\n",
    "});"
   ]
  },
  {
   "cell_type": "code",
   "execution_count": 1,
   "metadata": {
    "collapsed": false
   },
   "outputs": [
    {
     "data": {
      "application/javascript": [
       "require(['d3'], function(d3){\n",
       "  //a weird idempotency thing\n",
       "  $(\"#chart1\").remove();\n",
       "  //create canvas\n",
       "  element.append(\"<div id='chart1'></div>\");\n",
       "  $(\"#chart1\").width(\"960px\");\n",
       "  $(\"#chart1\").height(\"600px\");        \n",
       "  var margin = {top: 20, right: 20, bottom: 30, left: 40};\n",
       "  var width = 880 - margin.left - margin.right;\n",
       "  var height = 500 - margin.top - margin.bottom;\n",
       "  var svg = d3.select(\"#chart1\").append(\"svg\")\n",
       "    .style(\"position\", \"relative\")\n",
       "    .style(\"max-width\", \"960px\")\n",
       "    .attr(\"width\", width + \"px\")\n",
       "    .attr(\"height\", (height + 50) + \"px\")\n",
       "    .append(\"g\")\n",
       "    .attr(\"transform\", \"translate(\" + margin.left + \",\" + margin.top + \")\");\n",
       "});"
      ],
      "text/plain": [
       "<IPython.core.display.Javascript object>"
      ]
     },
     "metadata": {},
     "output_type": "display_data"
    }
   ],
   "source": [
    "%%javascript\n",
    "require(['d3'], function(d3){\n",
    "  //a weird idempotency thing\n",
    "  $(\"#chart1\").remove();\n",
    "  //create canvas\n",
    "  element.append(\"<div id='chart1'></div>\");\n",
    "  $(\"#chart1\").width(\"960px\");\n",
    "  $(\"#chart1\").height(\"600px\");        \n",
    "  var margin = {top: 20, right: 20, bottom: 30, left: 40};\n",
    "  var width = 880 - margin.left - margin.right;\n",
    "  var height = 500 - margin.top - margin.bottom;\n",
    "  var svg = d3.select(\"#chart1\").append(\"svg\")\n",
    "    .style(\"position\", \"relative\")\n",
    "    .style(\"max-width\", \"960px\")\n",
    "    .attr(\"width\", width + \"px\")\n",
    "    .attr(\"height\", (height + 50) + \"px\")\n",
    "    .append(\"g\")\n",
    "    .attr(\"transform\", \"translate(\" + margin.left + \",\" + margin.top + \")\");\n",
    "});"
   ]
  },
  {
   "cell_type": "code",
   "execution_count": null,
   "metadata": {
    "collapsed": true
   },
   "outputs": [],
   "source": []
  }
 ],
 "metadata": {
  "anaconda-cloud": {},
  "kernelspec": {
   "display_name": "Python [conda root]",
   "language": "python",
   "name": "conda-root-py"
  },
  "language_info": {
   "codemirror_mode": {
    "name": "ipython",
    "version": 3
   },
   "file_extension": ".py",
   "mimetype": "text/x-python",
   "name": "python",
   "nbconvert_exporter": "python",
   "pygments_lexer": "ipython3",
   "version": "3.5.2"
  }
 },
 "nbformat": 4,
 "nbformat_minor": 2
}
